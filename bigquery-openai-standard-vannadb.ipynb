{
  "cells": [
    {
      "id": "047b9caa-c9fd-5c84-94d6-733128dedbb8",
      "cell_type": "markdown",
      "metadata": {
        "id": "047b9caa-c9fd-5c84-94d6-733128dedbb8"
      },
      "source": [
        "# Generating SQL for BigQuery using OpenAI, Vanna Hosted Vector DB (Recommended)\n",
        "This notebook runs through the process of using the `vanna` Python package to generate SQL using AI (RAG + LLMs) including connecting to a database and training. If you're not ready to train on your own database, you can still try it using a sample [SQLite database](app.md)."
      ]
    },
    {
      "id": "971ea6ac-6f57-5726-b1cb-091111ef000b",
      "cell_type": "markdown",
      "metadata": {
        "id": "971ea6ac-6f57-5726-b1cb-091111ef000b"
      },
      "source": [
        "\n",
        "<h3 class=\"mb-5 text-lg font-medium text-gray-900 dark:text-white\">Which LLM do you want to use?</h3>\n",
        "<ul class=\"grid w-full gap-6 md:grid-cols-2\">\n",
        "    \n",
        "  <li>\n",
        "    <a href=\"../bigquery-openai-vanna-vannadb/\" class=\"inline-flex w-full cursor-pointer items-center justify-between rounded-lg border border-gray-200 bg-white p-5 text-gray-500 hover:bg-gray-100 hover:text-gray-600 peer-checked:border-blue-600 peer-checked:text-blue-600 dark:border-gray-700 dark:bg-gray-800 dark:text-gray-400 dark:hover:bg-gray-700 dark:hover:text-gray-300 dark:peer-checked:text-blue-500\">\n",
        "      <div class=\"block\">\n",
        "        <div class=\"w-full text-lg font-semibold\">OpenAI via Vanna.AI (Recommended)</div>\n",
        "        <small class=\"w-full\">Use Vanna.AI for free to generate your queries</small>\n",
        "      </div>\n",
        "    </a>\n",
        "  </li>\n",
        "    \n",
        "  <li>\n",
        "    <span class=\"inline-flex w-full cursor-pointer items-center justify-between rounded-lg border bg-white p-5 border-blue-600 text-blue-600 dark:bg-gray-800 dark:text-blue-500\">\n",
        "      <div class=\"block\">\n",
        "        <div class=\"w-full text-lg font-semibold\"><span class=\"hidden\">[Selected]</span> OpenAI</div>\n",
        "        <small class=\"w-full\">Use OpenAI with your own API key</small>\n",
        "      </div>\n",
        "    </span>\n",
        "  </li>\n",
        "  \n",
        "  <li>\n",
        "    <a href=\"../bigquery-openai-azure-vannadb/\" class=\"inline-flex w-full cursor-pointer items-center justify-between rounded-lg border border-gray-200 bg-white p-5 text-gray-500 hover:bg-gray-100 hover:text-gray-600 peer-checked:border-blue-600 peer-checked:text-blue-600 dark:border-gray-700 dark:bg-gray-800 dark:text-gray-400 dark:hover:bg-gray-700 dark:hover:text-gray-300 dark:peer-checked:text-blue-500\">\n",
        "      <div class=\"block\">\n",
        "        <div class=\"w-full text-lg font-semibold\">Azure OpenAI</div>\n",
        "        <small class=\"w-full\">If you have OpenAI models deployed on Azure</small>\n",
        "      </div>\n",
        "    </a>\n",
        "  </li>\n",
        "    \n",
        "  <li>\n",
        "    <a href=\"../bigquery-anthropic-vannadb/\" class=\"inline-flex w-full cursor-pointer items-center justify-between rounded-lg border border-gray-200 bg-white p-5 text-gray-500 hover:bg-gray-100 hover:text-gray-600 peer-checked:border-blue-600 peer-checked:text-blue-600 dark:border-gray-700 dark:bg-gray-800 dark:text-gray-400 dark:hover:bg-gray-700 dark:hover:text-gray-300 dark:peer-checked:text-blue-500\">\n",
        "      <div class=\"block\">\n",
        "        <div class=\"w-full text-lg font-semibold\">Anthropic</div>\n",
        "        <small class=\"w-full\">Use Anthropics Claude with your Anthropic API Key</small>\n",
        "      </div>\n",
        "    </a>\n",
        "  </li>\n",
        "    \n",
        "  <li>\n",
        "    <a href=\"../bigquery-ollama-vannadb/\" class=\"inline-flex w-full cursor-pointer items-center justify-between rounded-lg border border-gray-200 bg-white p-5 text-gray-500 hover:bg-gray-100 hover:text-gray-600 peer-checked:border-blue-600 peer-checked:text-blue-600 dark:border-gray-700 dark:bg-gray-800 dark:text-gray-400 dark:hover:bg-gray-700 dark:hover:text-gray-300 dark:peer-checked:text-blue-500\">\n",
        "      <div class=\"block\">\n",
        "        <div class=\"w-full text-lg font-semibold\">Ollama</div>\n",
        "        <small class=\"w-full\">Use Ollama locally for free. Requires additional setup.</small>\n",
        "      </div>\n",
        "    </a>\n",
        "  </li>\n",
        "    \n",
        "  <li>\n",
        "    <a href=\"../bigquery-gemini-vannadb/\" class=\"inline-flex w-full cursor-pointer items-center justify-between rounded-lg border border-gray-200 bg-white p-5 text-gray-500 hover:bg-gray-100 hover:text-gray-600 peer-checked:border-blue-600 peer-checked:text-blue-600 dark:border-gray-700 dark:bg-gray-800 dark:text-gray-400 dark:hover:bg-gray-700 dark:hover:text-gray-300 dark:peer-checked:text-blue-500\">\n",
        "      <div class=\"block\">\n",
        "        <div class=\"w-full text-lg font-semibold\">Google Gemini</div>\n",
        "        <small class=\"w-full\">Use Google Gemini with your Gemini or Vertex API Key</small>\n",
        "      </div>\n",
        "    </a>\n",
        "  </li>\n",
        "    \n",
        "  <li>\n",
        "    <a href=\"../bigquery-mistral-vannadb/\" class=\"inline-flex w-full cursor-pointer items-center justify-between rounded-lg border border-gray-200 bg-white p-5 text-gray-500 hover:bg-gray-100 hover:text-gray-600 peer-checked:border-blue-600 peer-checked:text-blue-600 dark:border-gray-700 dark:bg-gray-800 dark:text-gray-400 dark:hover:bg-gray-700 dark:hover:text-gray-300 dark:peer-checked:text-blue-500\">\n",
        "      <div class=\"block\">\n",
        "        <div class=\"w-full text-lg font-semibold\">Mistral via Mistral API</div>\n",
        "        <small class=\"w-full\">If you have a Mistral API key</small>\n",
        "      </div>\n",
        "    </a>\n",
        "  </li>\n",
        "    \n",
        "  <li>\n",
        "    <a href=\"../bigquery-other-llm-vannadb/\" class=\"inline-flex w-full cursor-pointer items-center justify-between rounded-lg border border-gray-200 bg-white p-5 text-gray-500 hover:bg-gray-100 hover:text-gray-600 peer-checked:border-blue-600 peer-checked:text-blue-600 dark:border-gray-700 dark:bg-gray-800 dark:text-gray-400 dark:hover:bg-gray-700 dark:hover:text-gray-300 dark:peer-checked:text-blue-500\">\n",
        "      <div class=\"block\">\n",
        "        <div class=\"w-full text-lg font-semibold\">Other LLM</div>\n",
        "        <small class=\"w-full\">If you have a different LLM model</small>\n",
        "      </div>\n",
        "    </a>\n",
        "  </li>\n",
        "    \n",
        "</ul>\n",
        "    "
      ]
    },
    {
      "id": "96acbf56-df06-5442-8430-30a51815fbf7",
      "cell_type": "markdown",
      "metadata": {
        "id": "96acbf56-df06-5442-8430-30a51815fbf7"
      },
      "source": [
        "\n",
        "<h3 class=\"mb-5 text-lg font-medium text-gray-900 dark:text-white\">Where do you want to store the 'training' data?</h3>\n",
        "<ul class=\"grid w-full gap-6 md:grid-cols-2\">\n",
        "    \n",
        "  <li>\n",
        "    <span class=\"inline-flex w-full cursor-pointer items-center justify-between rounded-lg border bg-white p-5 border-blue-600 text-blue-600 dark:bg-gray-800 dark:text-blue-500\">\n",
        "      <div class=\"block\">\n",
        "        <div class=\"w-full text-lg font-semibold\"><span class=\"hidden\">[Selected]</span> Vanna Hosted Vector DB (Recommended)</div>\n",
        "        <small class=\"w-full\">Use Vanna.AIs hosted vector database (pgvector) for free. This is usable across machines with no additional setup.</small>\n",
        "      </div>\n",
        "    </span>\n",
        "  </li>\n",
        "  \n",
        "  <li>\n",
        "    <a href=\"../bigquery-openai-standard-chromadb/\" class=\"inline-flex w-full cursor-pointer items-center justify-between rounded-lg border border-gray-200 bg-white p-5 text-gray-500 hover:bg-gray-100 hover:text-gray-600 peer-checked:border-blue-600 peer-checked:text-blue-600 dark:border-gray-700 dark:bg-gray-800 dark:text-gray-400 dark:hover:bg-gray-700 dark:hover:text-gray-300 dark:peer-checked:text-blue-500\">\n",
        "      <div class=\"block\">\n",
        "        <div class=\"w-full text-lg font-semibold\">ChromaDB</div>\n",
        "        <small class=\"w-full\">Use ChromaDBs open-source vector database for free locally. No additional setup is necessary -- all database files will be created and stored locally.</small>\n",
        "      </div>\n",
        "    </a>\n",
        "  </li>\n",
        "    \n",
        "  <li>\n",
        "    <a href=\"../bigquery-openai-standard-qdrant/\" class=\"inline-flex w-full cursor-pointer items-center justify-between rounded-lg border border-gray-200 bg-white p-5 text-gray-500 hover:bg-gray-100 hover:text-gray-600 peer-checked:border-blue-600 peer-checked:text-blue-600 dark:border-gray-700 dark:bg-gray-800 dark:text-gray-400 dark:hover:bg-gray-700 dark:hover:text-gray-300 dark:peer-checked:text-blue-500\">\n",
        "      <div class=\"block\">\n",
        "        <div class=\"w-full text-lg font-semibold\">Qdrant</div>\n",
        "        <small class=\"w-full\">Use Qdrants open-source vector database</small>\n",
        "      </div>\n",
        "    </a>\n",
        "  </li>\n",
        "    \n",
        "  <li>\n",
        "    <a href=\"../bigquery-openai-standard-marqo/\" class=\"inline-flex w-full cursor-pointer items-center justify-between rounded-lg border border-gray-200 bg-white p-5 text-gray-500 hover:bg-gray-100 hover:text-gray-600 peer-checked:border-blue-600 peer-checked:text-blue-600 dark:border-gray-700 dark:bg-gray-800 dark:text-gray-400 dark:hover:bg-gray-700 dark:hover:text-gray-300 dark:peer-checked:text-blue-500\">\n",
        "      <div class=\"block\">\n",
        "        <div class=\"w-full text-lg font-semibold\">Marqo</div>\n",
        "        <small class=\"w-full\">Use Marqo locally for free. Requires additional setup. Or use their hosted option.</small>\n",
        "      </div>\n",
        "    </a>\n",
        "  </li>\n",
        "    \n",
        "  <li>\n",
        "    <a href=\"../bigquery-openai-standard-other-vectordb/\" class=\"inline-flex w-full cursor-pointer items-center justify-between rounded-lg border border-gray-200 bg-white p-5 text-gray-500 hover:bg-gray-100 hover:text-gray-600 peer-checked:border-blue-600 peer-checked:text-blue-600 dark:border-gray-700 dark:bg-gray-800 dark:text-gray-400 dark:hover:bg-gray-700 dark:hover:text-gray-300 dark:peer-checked:text-blue-500\">\n",
        "      <div class=\"block\">\n",
        "        <div class=\"w-full text-lg font-semibold\">Other VectorDB</div>\n",
        "        <small class=\"w-full\">Use any other vector database. Requires additional setup.</small>\n",
        "      </div>\n",
        "    </a>\n",
        "  </li>\n",
        "    \n",
        "</ul>\n",
        "    "
      ]
    },
    {
      "id": "ee059407-58ac-50fa-843a-7b876328df13",
      "cell_type": "markdown",
      "metadata": {
        "id": "ee059407-58ac-50fa-843a-7b876328df13"
      },
      "source": [
        "## Setup"
      ]
    },
    {
      "id": "85007695-f172-57f7-8dd4-6f7db27f2633",
      "cell_type": "code",
      "execution_count": 1,
      "metadata": {
        "id": "85007695-f172-57f7-8dd4-6f7db27f2633",
        "outputId": "3aac882b-b136-4100-8cf1-ba4d3ec90397",
        "colab": {
          "base_uri": "https://localhost:8080/"
        }
      },
      "outputs": [
        {
          "output_type": "stream",
          "name": "stdout",
          "text": [
            "Collecting vanna[bigquery,openai]\n",
            "  Downloading vanna-0.7.5-py3-none-any.whl.metadata (13 kB)\n",
            "Requirement already satisfied: requests in /usr/local/lib/python3.10/dist-packages (from vanna[bigquery,openai]) (2.32.3)\n",
            "Requirement already satisfied: tabulate in /usr/local/lib/python3.10/dist-packages (from vanna[bigquery,openai]) (0.9.0)\n",
            "Requirement already satisfied: plotly in /usr/local/lib/python3.10/dist-packages (from vanna[bigquery,openai]) (5.24.1)\n",
            "Requirement already satisfied: pandas in /usr/local/lib/python3.10/dist-packages (from vanna[bigquery,openai]) (2.2.2)\n",
            "Requirement already satisfied: sqlparse in /usr/local/lib/python3.10/dist-packages (from vanna[bigquery,openai]) (0.5.1)\n",
            "Collecting kaleido (from vanna[bigquery,openai])\n",
            "  Downloading kaleido-0.2.1-py2.py3-none-manylinux1_x86_64.whl.metadata (15 kB)\n",
            "Requirement already satisfied: flask in /usr/local/lib/python3.10/dist-packages (from vanna[bigquery,openai]) (2.2.5)\n",
            "Collecting flask-sock (from vanna[bigquery,openai])\n",
            "  Downloading flask_sock-0.7.0-py3-none-any.whl.metadata (1.6 kB)\n",
            "Collecting flasgger (from vanna[bigquery,openai])\n",
            "  Downloading flasgger-0.9.7.1.tar.gz (4.0 MB)\n",
            "\u001b[2K     \u001b[90m━━━━━━━━━━━━━━━━━━━━━━━━━━━━━━━━━━━━━━━━\u001b[0m \u001b[32m4.0/4.0 MB\u001b[0m \u001b[31m39.2 MB/s\u001b[0m eta \u001b[36m0:00:00\u001b[0m\n",
            "\u001b[?25h  Preparing metadata (setup.py) ... \u001b[?25l\u001b[?25hdone\n",
            "Requirement already satisfied: sqlalchemy in /usr/local/lib/python3.10/dist-packages (from vanna[bigquery,openai]) (2.0.36)\n",
            "Requirement already satisfied: openai in /usr/local/lib/python3.10/dist-packages (from vanna[bigquery,openai]) (1.52.2)\n",
            "Requirement already satisfied: google-cloud-bigquery in /usr/local/lib/python3.10/dist-packages (from vanna[bigquery,openai]) (3.25.0)\n",
            "Requirement already satisfied: PyYAML>=3.0 in /usr/local/lib/python3.10/dist-packages (from flasgger->vanna[bigquery,openai]) (6.0.2)\n",
            "Requirement already satisfied: jsonschema>=3.0.1 in /usr/local/lib/python3.10/dist-packages (from flasgger->vanna[bigquery,openai]) (4.23.0)\n",
            "Requirement already satisfied: mistune in /usr/local/lib/python3.10/dist-packages (from flasgger->vanna[bigquery,openai]) (3.0.2)\n",
            "Requirement already satisfied: six>=1.10.0 in /usr/local/lib/python3.10/dist-packages (from flasgger->vanna[bigquery,openai]) (1.16.0)\n",
            "Requirement already satisfied: packaging in /usr/local/lib/python3.10/dist-packages (from flasgger->vanna[bigquery,openai]) (24.1)\n",
            "Requirement already satisfied: Werkzeug>=2.2.2 in /usr/local/lib/python3.10/dist-packages (from flask->vanna[bigquery,openai]) (3.0.6)\n",
            "Requirement already satisfied: Jinja2>=3.0 in /usr/local/lib/python3.10/dist-packages (from flask->vanna[bigquery,openai]) (3.1.4)\n",
            "Requirement already satisfied: itsdangerous>=2.0 in /usr/local/lib/python3.10/dist-packages (from flask->vanna[bigquery,openai]) (2.2.0)\n",
            "Requirement already satisfied: click>=8.0 in /usr/local/lib/python3.10/dist-packages (from flask->vanna[bigquery,openai]) (8.1.7)\n",
            "Collecting simple-websocket>=0.5.1 (from flask-sock->vanna[bigquery,openai])\n",
            "  Downloading simple_websocket-1.1.0-py3-none-any.whl.metadata (1.5 kB)\n",
            "Requirement already satisfied: google-api-core!=2.0.*,!=2.1.*,!=2.10.*,!=2.2.*,!=2.3.*,!=2.4.*,!=2.5.*,!=2.6.*,!=2.7.*,!=2.8.*,!=2.9.*,<3.0.0dev,>=1.34.1 in /usr/local/lib/python3.10/dist-packages (from google-api-core[grpc]!=2.0.*,!=2.1.*,!=2.10.*,!=2.2.*,!=2.3.*,!=2.4.*,!=2.5.*,!=2.6.*,!=2.7.*,!=2.8.*,!=2.9.*,<3.0.0dev,>=1.34.1->google-cloud-bigquery->vanna[bigquery,openai]) (2.19.2)\n",
            "Requirement already satisfied: google-auth<3.0.0dev,>=2.14.1 in /usr/local/lib/python3.10/dist-packages (from google-cloud-bigquery->vanna[bigquery,openai]) (2.27.0)\n",
            "Requirement already satisfied: google-cloud-core<3.0.0dev,>=1.6.0 in /usr/local/lib/python3.10/dist-packages (from google-cloud-bigquery->vanna[bigquery,openai]) (2.4.1)\n",
            "Requirement already satisfied: google-resumable-media<3.0dev,>=0.6.0 in /usr/local/lib/python3.10/dist-packages (from google-cloud-bigquery->vanna[bigquery,openai]) (2.7.2)\n",
            "Requirement already satisfied: python-dateutil<3.0dev,>=2.7.2 in /usr/local/lib/python3.10/dist-packages (from google-cloud-bigquery->vanna[bigquery,openai]) (2.8.2)\n",
            "Requirement already satisfied: charset-normalizer<4,>=2 in /usr/local/lib/python3.10/dist-packages (from requests->vanna[bigquery,openai]) (3.4.0)\n",
            "Requirement already satisfied: idna<4,>=2.5 in /usr/local/lib/python3.10/dist-packages (from requests->vanna[bigquery,openai]) (3.10)\n",
            "Requirement already satisfied: urllib3<3,>=1.21.1 in /usr/local/lib/python3.10/dist-packages (from requests->vanna[bigquery,openai]) (2.2.3)\n",
            "Requirement already satisfied: certifi>=2017.4.17 in /usr/local/lib/python3.10/dist-packages (from requests->vanna[bigquery,openai]) (2024.8.30)\n",
            "Requirement already satisfied: anyio<5,>=3.5.0 in /usr/local/lib/python3.10/dist-packages (from openai->vanna[bigquery,openai]) (3.7.1)\n",
            "Requirement already satisfied: distro<2,>=1.7.0 in /usr/local/lib/python3.10/dist-packages (from openai->vanna[bigquery,openai]) (1.9.0)\n",
            "Requirement already satisfied: httpx<1,>=0.23.0 in /usr/local/lib/python3.10/dist-packages (from openai->vanna[bigquery,openai]) (0.27.2)\n",
            "Requirement already satisfied: jiter<1,>=0.4.0 in /usr/local/lib/python3.10/dist-packages (from openai->vanna[bigquery,openai]) (0.6.1)\n",
            "Requirement already satisfied: pydantic<3,>=1.9.0 in /usr/local/lib/python3.10/dist-packages (from openai->vanna[bigquery,openai]) (2.9.2)\n",
            "Requirement already satisfied: sniffio in /usr/local/lib/python3.10/dist-packages (from openai->vanna[bigquery,openai]) (1.3.1)\n",
            "Requirement already satisfied: tqdm>4 in /usr/local/lib/python3.10/dist-packages (from openai->vanna[bigquery,openai]) (4.66.6)\n",
            "Requirement already satisfied: typing-extensions<5,>=4.11 in /usr/local/lib/python3.10/dist-packages (from openai->vanna[bigquery,openai]) (4.12.2)\n",
            "Requirement already satisfied: numpy>=1.22.4 in /usr/local/lib/python3.10/dist-packages (from pandas->vanna[bigquery,openai]) (1.26.4)\n",
            "Requirement already satisfied: pytz>=2020.1 in /usr/local/lib/python3.10/dist-packages (from pandas->vanna[bigquery,openai]) (2024.2)\n",
            "Requirement already satisfied: tzdata>=2022.7 in /usr/local/lib/python3.10/dist-packages (from pandas->vanna[bigquery,openai]) (2024.2)\n",
            "Requirement already satisfied: tenacity>=6.2.0 in /usr/local/lib/python3.10/dist-packages (from plotly->vanna[bigquery,openai]) (9.0.0)\n",
            "Requirement already satisfied: greenlet!=0.4.17 in /usr/local/lib/python3.10/dist-packages (from sqlalchemy->vanna[bigquery,openai]) (3.1.1)\n",
            "Requirement already satisfied: exceptiongroup in /usr/local/lib/python3.10/dist-packages (from anyio<5,>=3.5.0->openai->vanna[bigquery,openai]) (1.2.2)\n",
            "Requirement already satisfied: googleapis-common-protos<2.0.dev0,>=1.56.2 in /usr/local/lib/python3.10/dist-packages (from google-api-core!=2.0.*,!=2.1.*,!=2.10.*,!=2.2.*,!=2.3.*,!=2.4.*,!=2.5.*,!=2.6.*,!=2.7.*,!=2.8.*,!=2.9.*,<3.0.0dev,>=1.34.1->google-api-core[grpc]!=2.0.*,!=2.1.*,!=2.10.*,!=2.2.*,!=2.3.*,!=2.4.*,!=2.5.*,!=2.6.*,!=2.7.*,!=2.8.*,!=2.9.*,<3.0.0dev,>=1.34.1->google-cloud-bigquery->vanna[bigquery,openai]) (1.65.0)\n",
            "Requirement already satisfied: protobuf!=3.20.0,!=3.20.1,!=4.21.0,!=4.21.1,!=4.21.2,!=4.21.3,!=4.21.4,!=4.21.5,<6.0.0.dev0,>=3.19.5 in /usr/local/lib/python3.10/dist-packages (from google-api-core!=2.0.*,!=2.1.*,!=2.10.*,!=2.2.*,!=2.3.*,!=2.4.*,!=2.5.*,!=2.6.*,!=2.7.*,!=2.8.*,!=2.9.*,<3.0.0dev,>=1.34.1->google-api-core[grpc]!=2.0.*,!=2.1.*,!=2.10.*,!=2.2.*,!=2.3.*,!=2.4.*,!=2.5.*,!=2.6.*,!=2.7.*,!=2.8.*,!=2.9.*,<3.0.0dev,>=1.34.1->google-cloud-bigquery->vanna[bigquery,openai]) (3.20.3)\n",
            "Requirement already satisfied: proto-plus<2.0.0dev,>=1.22.3 in /usr/local/lib/python3.10/dist-packages (from google-api-core!=2.0.*,!=2.1.*,!=2.10.*,!=2.2.*,!=2.3.*,!=2.4.*,!=2.5.*,!=2.6.*,!=2.7.*,!=2.8.*,!=2.9.*,<3.0.0dev,>=1.34.1->google-api-core[grpc]!=2.0.*,!=2.1.*,!=2.10.*,!=2.2.*,!=2.3.*,!=2.4.*,!=2.5.*,!=2.6.*,!=2.7.*,!=2.8.*,!=2.9.*,<3.0.0dev,>=1.34.1->google-cloud-bigquery->vanna[bigquery,openai]) (1.25.0)\n",
            "Requirement already satisfied: grpcio<2.0dev,>=1.33.2 in /usr/local/lib/python3.10/dist-packages (from google-api-core[grpc]!=2.0.*,!=2.1.*,!=2.10.*,!=2.2.*,!=2.3.*,!=2.4.*,!=2.5.*,!=2.6.*,!=2.7.*,!=2.8.*,!=2.9.*,<3.0.0dev,>=1.34.1->google-cloud-bigquery->vanna[bigquery,openai]) (1.64.1)\n",
            "Requirement already satisfied: grpcio-status<2.0.dev0,>=1.33.2 in /usr/local/lib/python3.10/dist-packages (from google-api-core[grpc]!=2.0.*,!=2.1.*,!=2.10.*,!=2.2.*,!=2.3.*,!=2.4.*,!=2.5.*,!=2.6.*,!=2.7.*,!=2.8.*,!=2.9.*,<3.0.0dev,>=1.34.1->google-cloud-bigquery->vanna[bigquery,openai]) (1.48.2)\n",
            "Requirement already satisfied: cachetools<6.0,>=2.0.0 in /usr/local/lib/python3.10/dist-packages (from google-auth<3.0.0dev,>=2.14.1->google-cloud-bigquery->vanna[bigquery,openai]) (5.5.0)\n",
            "Requirement already satisfied: pyasn1-modules>=0.2.1 in /usr/local/lib/python3.10/dist-packages (from google-auth<3.0.0dev,>=2.14.1->google-cloud-bigquery->vanna[bigquery,openai]) (0.4.1)\n",
            "Requirement already satisfied: rsa<5,>=3.1.4 in /usr/local/lib/python3.10/dist-packages (from google-auth<3.0.0dev,>=2.14.1->google-cloud-bigquery->vanna[bigquery,openai]) (4.9)\n",
            "Requirement already satisfied: google-crc32c<2.0dev,>=1.0 in /usr/local/lib/python3.10/dist-packages (from google-resumable-media<3.0dev,>=0.6.0->google-cloud-bigquery->vanna[bigquery,openai]) (1.6.0)\n",
            "Requirement already satisfied: httpcore==1.* in /usr/local/lib/python3.10/dist-packages (from httpx<1,>=0.23.0->openai->vanna[bigquery,openai]) (1.0.6)\n",
            "Requirement already satisfied: h11<0.15,>=0.13 in /usr/local/lib/python3.10/dist-packages (from httpcore==1.*->httpx<1,>=0.23.0->openai->vanna[bigquery,openai]) (0.14.0)\n",
            "Requirement already satisfied: MarkupSafe>=2.0 in /usr/local/lib/python3.10/dist-packages (from Jinja2>=3.0->flask->vanna[bigquery,openai]) (3.0.2)\n",
            "Requirement already satisfied: attrs>=22.2.0 in /usr/local/lib/python3.10/dist-packages (from jsonschema>=3.0.1->flasgger->vanna[bigquery,openai]) (24.2.0)\n",
            "Requirement already satisfied: jsonschema-specifications>=2023.03.6 in /usr/local/lib/python3.10/dist-packages (from jsonschema>=3.0.1->flasgger->vanna[bigquery,openai]) (2024.10.1)\n",
            "Requirement already satisfied: referencing>=0.28.4 in /usr/local/lib/python3.10/dist-packages (from jsonschema>=3.0.1->flasgger->vanna[bigquery,openai]) (0.35.1)\n",
            "Requirement already satisfied: rpds-py>=0.7.1 in /usr/local/lib/python3.10/dist-packages (from jsonschema>=3.0.1->flasgger->vanna[bigquery,openai]) (0.20.0)\n",
            "Requirement already satisfied: annotated-types>=0.6.0 in /usr/local/lib/python3.10/dist-packages (from pydantic<3,>=1.9.0->openai->vanna[bigquery,openai]) (0.7.0)\n",
            "Requirement already satisfied: pydantic-core==2.23.4 in /usr/local/lib/python3.10/dist-packages (from pydantic<3,>=1.9.0->openai->vanna[bigquery,openai]) (2.23.4)\n",
            "Collecting wsproto (from simple-websocket>=0.5.1->flask-sock->vanna[bigquery,openai])\n",
            "  Downloading wsproto-1.2.0-py3-none-any.whl.metadata (5.6 kB)\n",
            "Requirement already satisfied: pyasn1<0.7.0,>=0.4.6 in /usr/local/lib/python3.10/dist-packages (from pyasn1-modules>=0.2.1->google-auth<3.0.0dev,>=2.14.1->google-cloud-bigquery->vanna[bigquery,openai]) (0.6.1)\n",
            "Downloading flask_sock-0.7.0-py3-none-any.whl (4.0 kB)\n",
            "Downloading kaleido-0.2.1-py2.py3-none-manylinux1_x86_64.whl (79.9 MB)\n",
            "\u001b[2K   \u001b[90m━━━━━━━━━━━━━━━━━━━━━━━━━━━━━━━━━━━━━━━━\u001b[0m \u001b[32m79.9/79.9 MB\u001b[0m \u001b[31m10.4 MB/s\u001b[0m eta \u001b[36m0:00:00\u001b[0m\n",
            "\u001b[?25hDownloading vanna-0.7.5-py3-none-any.whl (202 kB)\n",
            "\u001b[2K   \u001b[90m━━━━━━━━━━━━━━━━━━━━━━━━━━━━━━━━━━━━━━━━\u001b[0m \u001b[32m202.4/202.4 kB\u001b[0m \u001b[31m10.2 MB/s\u001b[0m eta \u001b[36m0:00:00\u001b[0m\n",
            "\u001b[?25hDownloading simple_websocket-1.1.0-py3-none-any.whl (13 kB)\n",
            "Downloading wsproto-1.2.0-py3-none-any.whl (24 kB)\n",
            "Building wheels for collected packages: flasgger\n",
            "  Building wheel for flasgger (setup.py) ... \u001b[?25l\u001b[?25hdone\n",
            "  Created wheel for flasgger: filename=flasgger-0.9.7.1-py2.py3-none-any.whl size=3865184 sha256=3c246562e415e1f1a896fceef506cbe149442252749526645349f36664530ae1\n",
            "  Stored in directory: /root/.cache/pip/wheels/92/c0/ec/a7935834b3205c0c0acbd4ba52b9c8215835984fe168374262\n",
            "Successfully built flasgger\n",
            "Installing collected packages: kaleido, wsproto, simple-websocket, flask-sock, flasgger, vanna\n",
            "Successfully installed flasgger-0.9.7.1 flask-sock-0.7.0 kaleido-0.2.1 simple-websocket-1.1.0 vanna-0.7.5 wsproto-1.2.0\n"
          ]
        }
      ],
      "source": [
        "%pip install 'vanna[openai,bigquery]'"
      ]
    },
    {
      "id": "a3939bdd-1985-5f0d-8082-2a4185360ee4",
      "cell_type": "code",
      "execution_count": 2,
      "metadata": {
        "id": "a3939bdd-1985-5f0d-8082-2a4185360ee4"
      },
      "outputs": [],
      "source": [
        "from vanna.openai import OpenAI_Chat\n",
        "from vanna.vannadb import VannaDB_VectorStore\n"
      ]
    },
    {
      "id": "5a63e1ee-fb8c-52e3-b79b-6a33418bdea8",
      "cell_type": "code",
      "execution_count": null,
      "metadata": {
        "id": "5a63e1ee-fb8c-52e3-b79b-6a33418bdea8"
      },
      "outputs": [],
      "source": [
        "\n",
        "\n",
        "\n",
        "class MyVanna(VannaDB_VectorStore, OpenAI_Chat):\n",
        "    def __init__(self, config=None):\n",
        "        MY_VANNA_MODEL = vaana_sample\n",
        "        VannaDB_VectorStore.__init__(self, vanna_model=vaana_sample, vanna_api_key=3c0ccc9c1432480ab7f333f1fa655bc5, config=config)\n",
        "        OpenAI_Chat.__init__(self, config=config)\n",
        "\n",
        "vn = MyVanna(config={'api_key': '3c0ccc9c1432480ab7f333f1fa655bc5', 'model': 'gpt-4-...'})\n"
      ]
    },
    {
      "id": "a2508aca-2986-5a63-93cc-9e7c41122b94",
      "cell_type": "markdown",
      "metadata": {
        "id": "a2508aca-2986-5a63-93cc-9e7c41122b94"
      },
      "source": [
        "\n",
        "<h3 class=\"mb-5 text-lg font-medium text-gray-900 dark:text-white\">Which database do you want to query?</h3>\n",
        "<ul class=\"grid w-full gap-6 md:grid-cols-2\">\n",
        "    \n",
        "  <li>\n",
        "    <a href=\"../postgres-openai-standard-vannadb/\" class=\"inline-flex w-full cursor-pointer items-center justify-between rounded-lg border border-gray-200 bg-white p-5 text-gray-500 hover:bg-gray-100 hover:text-gray-600 peer-checked:border-blue-600 peer-checked:text-blue-600 dark:border-gray-700 dark:bg-gray-800 dark:text-gray-400 dark:hover:bg-gray-700 dark:hover:text-gray-300 dark:peer-checked:text-blue-500\">\n",
        "      <div class=\"block\">\n",
        "        <div class=\"w-full text-lg font-semibold\">Postgres</div>\n",
        "        <small class=\"w-full\"></small>\n",
        "      </div>\n",
        "    </a>\n",
        "  </li>\n",
        "    \n",
        "  <li>\n",
        "    <a href=\"../mssql-openai-standard-vannadb/\" class=\"inline-flex w-full cursor-pointer items-center justify-between rounded-lg border border-gray-200 bg-white p-5 text-gray-500 hover:bg-gray-100 hover:text-gray-600 peer-checked:border-blue-600 peer-checked:text-blue-600 dark:border-gray-700 dark:bg-gray-800 dark:text-gray-400 dark:hover:bg-gray-700 dark:hover:text-gray-300 dark:peer-checked:text-blue-500\">\n",
        "      <div class=\"block\">\n",
        "        <div class=\"w-full text-lg font-semibold\">Microsoft SQL Server</div>\n",
        "        <small class=\"w-full\"></small>\n",
        "      </div>\n",
        "    </a>\n",
        "  </li>\n",
        "    \n",
        "  <li>\n",
        "    <a href=\"../mysql-openai-standard-vannadb/\" class=\"inline-flex w-full cursor-pointer items-center justify-between rounded-lg border border-gray-200 bg-white p-5 text-gray-500 hover:bg-gray-100 hover:text-gray-600 peer-checked:border-blue-600 peer-checked:text-blue-600 dark:border-gray-700 dark:bg-gray-800 dark:text-gray-400 dark:hover:bg-gray-700 dark:hover:text-gray-300 dark:peer-checked:text-blue-500\">\n",
        "      <div class=\"block\">\n",
        "        <div class=\"w-full text-lg font-semibold\">MySQL</div>\n",
        "        <small class=\"w-full\"></small>\n",
        "      </div>\n",
        "    </a>\n",
        "  </li>\n",
        "    \n",
        "  <li>\n",
        "    <a href=\"../duckdb-openai-standard-vannadb/\" class=\"inline-flex w-full cursor-pointer items-center justify-between rounded-lg border border-gray-200 bg-white p-5 text-gray-500 hover:bg-gray-100 hover:text-gray-600 peer-checked:border-blue-600 peer-checked:text-blue-600 dark:border-gray-700 dark:bg-gray-800 dark:text-gray-400 dark:hover:bg-gray-700 dark:hover:text-gray-300 dark:peer-checked:text-blue-500\">\n",
        "      <div class=\"block\">\n",
        "        <div class=\"w-full text-lg font-semibold\">DuckDB</div>\n",
        "        <small class=\"w-full\"></small>\n",
        "      </div>\n",
        "    </a>\n",
        "  </li>\n",
        "    \n",
        "  <li>\n",
        "    <a href=\"../snowflake-openai-standard-vannadb/\" class=\"inline-flex w-full cursor-pointer items-center justify-between rounded-lg border border-gray-200 bg-white p-5 text-gray-500 hover:bg-gray-100 hover:text-gray-600 peer-checked:border-blue-600 peer-checked:text-blue-600 dark:border-gray-700 dark:bg-gray-800 dark:text-gray-400 dark:hover:bg-gray-700 dark:hover:text-gray-300 dark:peer-checked:text-blue-500\">\n",
        "      <div class=\"block\">\n",
        "        <div class=\"w-full text-lg font-semibold\">Snowflake</div>\n",
        "        <small class=\"w-full\"></small>\n",
        "      </div>\n",
        "    </a>\n",
        "  </li>\n",
        "    \n",
        "  <li>\n",
        "    <span class=\"inline-flex w-full cursor-pointer items-center justify-between rounded-lg border bg-white p-5 border-blue-600 text-blue-600 dark:bg-gray-800 dark:text-blue-500\">\n",
        "      <div class=\"block\">\n",
        "        <div class=\"w-full text-lg font-semibold\"><span class=\"hidden\">[Selected]</span> BigQuery</div>\n",
        "        <small class=\"w-full\"></small>\n",
        "      </div>\n",
        "    </span>\n",
        "  </li>\n",
        "  \n",
        "  <li>\n",
        "    <a href=\"../sqlite-openai-standard-vannadb/\" class=\"inline-flex w-full cursor-pointer items-center justify-between rounded-lg border border-gray-200 bg-white p-5 text-gray-500 hover:bg-gray-100 hover:text-gray-600 peer-checked:border-blue-600 peer-checked:text-blue-600 dark:border-gray-700 dark:bg-gray-800 dark:text-gray-400 dark:hover:bg-gray-700 dark:hover:text-gray-300 dark:peer-checked:text-blue-500\">\n",
        "      <div class=\"block\">\n",
        "        <div class=\"w-full text-lg font-semibold\">SQLite</div>\n",
        "        <small class=\"w-full\"></small>\n",
        "      </div>\n",
        "    </a>\n",
        "  </li>\n",
        "    \n",
        "  <li>\n",
        "    <a href=\"../oracle-openai-standard-vannadb/\" class=\"inline-flex w-full cursor-pointer items-center justify-between rounded-lg border border-gray-200 bg-white p-5 text-gray-500 hover:bg-gray-100 hover:text-gray-600 peer-checked:border-blue-600 peer-checked:text-blue-600 dark:border-gray-700 dark:bg-gray-800 dark:text-gray-400 dark:hover:bg-gray-700 dark:hover:text-gray-300 dark:peer-checked:text-blue-500\">\n",
        "      <div class=\"block\">\n",
        "        <div class=\"w-full text-lg font-semibold\">Oracle</div>\n",
        "        <small class=\"w-full\"></small>\n",
        "      </div>\n",
        "    </a>\n",
        "  </li>\n",
        "    \n",
        "  <li>\n",
        "    <a href=\"../other-database-openai-standard-vannadb/\" class=\"inline-flex w-full cursor-pointer items-center justify-between rounded-lg border border-gray-200 bg-white p-5 text-gray-500 hover:bg-gray-100 hover:text-gray-600 peer-checked:border-blue-600 peer-checked:text-blue-600 dark:border-gray-700 dark:bg-gray-800 dark:text-gray-400 dark:hover:bg-gray-700 dark:hover:text-gray-300 dark:peer-checked:text-blue-500\">\n",
        "      <div class=\"block\">\n",
        "        <div class=\"w-full text-lg font-semibold\">Other Database</div>\n",
        "        <small class=\"w-full\">Use Vanna to generate queries for any SQL database</small>\n",
        "      </div>\n",
        "    </a>\n",
        "  </li>\n",
        "    \n",
        "</ul>\n",
        "    "
      ]
    },
    {
      "id": "45b52fa3-74ea-5bb0-82e5-518731dbe674",
      "cell_type": "code",
      "execution_count": null,
      "metadata": {
        "id": "45b52fa3-74ea-5bb0-82e5-518731dbe674"
      },
      "outputs": [],
      "source": [
        "vn.connect_to_bigquery(project_id='my-project')"
      ]
    },
    {
      "id": "f06c0e89-83f7-5ad1-8f6e-a64cf5bd8e60",
      "cell_type": "markdown",
      "metadata": {
        "id": "f06c0e89-83f7-5ad1-8f6e-a64cf5bd8e60"
      },
      "source": [
        "## Training\n",
        "You only need to train once. Do not train again unless you want to add more training data."
      ]
    },
    {
      "id": "5d321d01-d66f-5c5e-a3f3-e2d3d4330344",
      "cell_type": "code",
      "execution_count": null,
      "metadata": {
        "id": "5d321d01-d66f-5c5e-a3f3-e2d3d4330344"
      },
      "outputs": [],
      "source": [
        "\n",
        "# The information schema query may need some tweaking depending on your database. This is a good starting point.\n",
        "df_information_schema = vn.run_sql(\"SELECT * FROM INFORMATION_SCHEMA.COLUMNS\")\n",
        "\n",
        "# This will break up the information schema into bite-sized chunks that can be referenced by the LLM\n",
        "plan = vn.get_training_plan_generic(df_information_schema)\n",
        "plan\n",
        "\n",
        "# If you like the plan, then uncomment this and run it to train\n",
        "# vn.train(plan=plan)\n",
        "\n"
      ]
    },
    {
      "id": "7c421f88-42ea-567c-8581-3dcac96c36a3",
      "cell_type": "code",
      "execution_count": null,
      "metadata": {
        "id": "7c421f88-42ea-567c-8581-3dcac96c36a3"
      },
      "outputs": [],
      "source": [
        "\n",
        "# The following are methods for adding training data. Make sure you modify the examples to match your database.\n",
        "\n",
        "# DDL statements are powerful because they specify table names, colume names, types, and potentially relationships\n",
        "vn.train(ddl=\"\"\"\n",
        "    CREATE TABLE IF NOT EXISTS my-table (\n",
        "        id INT PRIMARY KEY,\n",
        "        name VARCHAR(100),\n",
        "        age INT\n",
        "    )\n",
        "\"\"\")\n",
        "\n",
        "# Sometimes you may want to add documentation about your business terminology or definitions.\n",
        "vn.train(documentation=\"Our business defines OTIF score as the percentage of orders that are delivered on time and in full\")\n",
        "\n",
        "# You can also add SQL queries to your training data. This is useful if you have some queries already laying around. You can just copy and paste those from your editor to begin generating new SQL.\n",
        "vn.train(sql=\"SELECT * FROM my-table WHERE name = 'John Doe'\")\n"
      ]
    },
    {
      "id": "59fcb3b1-4434-583d-82be-ed8e9b04d699",
      "cell_type": "code",
      "execution_count": null,
      "metadata": {
        "id": "59fcb3b1-4434-583d-82be-ed8e9b04d699"
      },
      "outputs": [],
      "source": [
        "# At any time you can inspect what training data the package is able to reference\n",
        "training_data = vn.get_training_data()\n",
        "training_data"
      ]
    },
    {
      "id": "6cf17ab9-dc48-58af-8d75-4e5590a01c88",
      "cell_type": "code",
      "execution_count": null,
      "metadata": {
        "id": "6cf17ab9-dc48-58af-8d75-4e5590a01c88"
      },
      "outputs": [],
      "source": [
        "# You can remove training data if there's obsolete/incorrect information.\n",
        "vn.remove_training_data(id='1-ddl')\n"
      ]
    },
    {
      "id": "bf2fc121-a3ab-5a2e-95b0-383271e82d5f",
      "cell_type": "markdown",
      "metadata": {
        "id": "bf2fc121-a3ab-5a2e-95b0-383271e82d5f"
      },
      "source": [
        "## Asking the AI\n",
        "Whenever you ask a new question, it will find the 10 most relevant pieces of training data and use it as part of the LLM prompt to generate the SQL."
      ]
    },
    {
      "id": "edb6679e-a102-5efc-b890-81babca8f500",
      "cell_type": "code",
      "execution_count": null,
      "metadata": {
        "id": "edb6679e-a102-5efc-b890-81babca8f500"
      },
      "outputs": [],
      "source": [
        "vn.ask(question=...)"
      ]
    },
    {
      "id": "8c49dd68-3bc6-5098-93f1-2d4d8617badb",
      "cell_type": "markdown",
      "metadata": {
        "id": "8c49dd68-3bc6-5098-93f1-2d4d8617badb"
      },
      "source": [
        "## Launch the User Interface\n",
        "![vanna-flask](https://vanna.ai/blog/img/vanna-flask.gif)"
      ]
    },
    {
      "id": "b87d140b-ef56-5795-b489-46bb11d01459",
      "cell_type": "code",
      "execution_count": null,
      "metadata": {
        "id": "b87d140b-ef56-5795-b489-46bb11d01459"
      },
      "outputs": [],
      "source": [
        "from vanna.flask import VannaFlaskApp\n",
        "app = VannaFlaskApp(vn)\n",
        "app.run()"
      ]
    },
    {
      "id": "29793859-c3c8-50da-994a-c8f6348d6730",
      "cell_type": "markdown",
      "metadata": {
        "id": "29793859-c3c8-50da-994a-c8f6348d6730"
      },
      "source": [
        "## Next Steps\n",
        "Using Vanna via Jupyter notebooks is great for getting started but check out additional customizable interfaces like the\n",
        "- [Streamlit app](https://github.com/vanna-ai/vanna-streamlit)\n",
        "- [Flask app](https://github.com/vanna-ai/vanna-flask)\n",
        "- [Slackbot](https://github.com/vanna-ai/vanna-slack)\n"
      ]
    }
  ],
  "metadata": {
    "kernelspec": {
      "display_name": "Python 3",
      "language": "python",
      "name": "python3"
    },
    "language_info": {
      "codemirror_mode": {
        "name": "ipython",
        "version": 3
      },
      "file_extension": ".py",
      "mimetype": "text/x-python",
      "name": "python",
      "nbconvert_exporter": "python",
      "pygments_lexer": "ipython3",
      "version": "3.8.5"
    },
    "colab": {
      "provenance": []
    }
  },
  "nbformat": 4,
  "nbformat_minor": 5
}